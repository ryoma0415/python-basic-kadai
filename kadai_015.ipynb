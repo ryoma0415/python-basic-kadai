{
  "nbformat": 4,
  "nbformat_minor": 0,
  "metadata": {
    "colab": {
      "provenance": [],
      "authorship_tag": "ABX9TyPCvY4+vrfOVo1e6X6FfW1A",
      "include_colab_link": true
    },
    "kernelspec": {
      "name": "python3",
      "display_name": "Python 3"
    },
    "language_info": {
      "name": "python"
    }
  },
  "cells": [
    {
      "cell_type": "markdown",
      "metadata": {
        "id": "view-in-github",
        "colab_type": "text"
      },
      "source": [
        "<a href=\"https://colab.research.google.com/github/ryoma0415/python-basic-kadai/blob/main/kadai_015.ipynb\" target=\"_parent\"><img src=\"https://colab.research.google.com/assets/colab-badge.svg\" alt=\"Open In Colab\"/></a>"
      ]
    },
    {
      "cell_type": "code",
      "execution_count": 4,
      "metadata": {
        "colab": {
          "base_uri": "https://localhost:8080/"
        },
        "id": "b67tMeGm3OyM",
        "outputId": "aae106e4-64da-4f97-f326-88aab2451cd9"
      },
      "outputs": [
        {
          "output_type": "stream",
          "name": "stdout",
          "text": [
            "ryoma\n",
            "21\n"
          ]
        }
      ],
      "source": [
        "class Human:\n",
        "  # def contractor\n",
        "  def __init__(self, name, age):\n",
        "    # def chara\n",
        "    self.name = name\n",
        "    self.age = age\n",
        "\n",
        "  # def method\n",
        "  def printinfo(self):\n",
        "    print(self.name)\n",
        "    print(self.age)\n",
        "\n",
        "# instance\n",
        "human = Human(\"ryoma\", 21)\n",
        "\n",
        "human.printinfo()\n"
      ]
    }
  ]
}