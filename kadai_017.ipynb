{
  "nbformat": 4,
  "nbformat_minor": 0,
  "metadata": {
    "colab": {
      "provenance": [],
      "authorship_tag": "ABX9TyO/ziZ7kYRKOk5cK+HFv2tK",
      "include_colab_link": true
    },
    "kernelspec": {
      "name": "python3",
      "display_name": "Python 3"
    },
    "language_info": {
      "name": "python"
    }
  },
  "cells": [
    {
      "cell_type": "markdown",
      "metadata": {
        "id": "view-in-github",
        "colab_type": "text"
      },
      "source": [
        "<a href=\"https://colab.research.google.com/github/ryoma0415/python-basic-kadai/blob/main/kadai_017.ipynb\" target=\"_parent\"><img src=\"https://colab.research.google.com/assets/colab-badge.svg\" alt=\"Open In Colab\"/></a>"
      ]
    },
    {
      "cell_type": "code",
      "execution_count": 9,
      "metadata": {
        "colab": {
          "base_uri": "https://localhost:8080/"
        },
        "id": "Cp0bgAIUNORC",
        "outputId": "25909196-53fd-42f3-a32f-42fb130c4bc1"
      },
      "outputs": [
        {
          "output_type": "stream",
          "name": "stdout",
          "text": [
            "name : person1,   age : 10   not adult\n",
            "name : person2,   age : 25   adult\n",
            "name : person3,   age : 25   adult\n",
            "name : person4,   age : 16   not adult\n",
            "name : person5,   age : 24   adult\n",
            "name : person6,   age : 16   not adult\n",
            "name : person7,   age : 28   adult\n",
            "name : person8,   age : 23   adult\n",
            "name : person9,   age : 29   adult\n",
            "name : person10,   age : 25   adult\n"
          ]
        }
      ],
      "source": [
        "# import random\n",
        "import random\n",
        "\n",
        "# def Human class\n",
        "class Human:\n",
        "\n",
        "  # def character, and edit chracter\n",
        "  def __init__(self, name, age):\n",
        "    self.name = name\n",
        "    self.age = age\n",
        "\n",
        "  # def method (print name, age, adult or not of object)\n",
        "  def check_adult(self):\n",
        "    if self.age > 19:\n",
        "      print(\"name : \" + self.name + f\",   age : {self.age}   adult\")\n",
        "    else:\n",
        "      print(\"name : \" + self.name + f\",   age : {self.age}   not adult\")\n",
        "\n",
        "# make random age person, instantiation, and run method(check adult)\n",
        "'''\n",
        "for i in range(1,11):\n",
        "  age_i = random.randint(10,30)\n",
        "  human_i = Human(f\"person{i}\", age_i)\n",
        "  human_i.check_adult()\n",
        "'''\n",
        "\n",
        "# set dictionary of personal data\n",
        "personal_data ={}\n",
        "for i in range(1,11):\n",
        "  age_i = random.randint(10,30)\n",
        "  personal_data[f\"person{i}\"] = age_i\n",
        "\n",
        "# instantiation and run method from the dictionary in order\n",
        "for key, value in personal_data.items():\n",
        "  human_i = Human(key, value)\n",
        "  human_i.check_adult()\n",
        "\n",
        "\n",
        "\n"
      ]
    }
  ]
}