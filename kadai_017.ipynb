{
  "nbformat": 4,
  "nbformat_minor": 0,
  "metadata": {
    "colab": {
      "provenance": [],
      "authorship_tag": "ABX9TyMfAAnVVt5/YgHGPxZogdI7",
      "include_colab_link": true
    },
    "kernelspec": {
      "name": "python3",
      "display_name": "Python 3"
    },
    "language_info": {
      "name": "python"
    }
  },
  "cells": [
    {
      "cell_type": "markdown",
      "metadata": {
        "id": "view-in-github",
        "colab_type": "text"
      },
      "source": [
        "<a href=\"https://colab.research.google.com/github/ryoma0415/python-basic-kadai/blob/main/kadai_017.ipynb\" target=\"_parent\"><img src=\"https://colab.research.google.com/assets/colab-badge.svg\" alt=\"Open In Colab\"/></a>"
      ]
    },
    {
      "cell_type": "code",
      "execution_count": 8,
      "metadata": {
        "colab": {
          "base_uri": "https://localhost:8080/"
        },
        "id": "Cp0bgAIUNORC",
        "outputId": "b240d636-d6d0-4f3e-f1f3-22e3a9166720"
      },
      "outputs": [
        {
          "output_type": "stream",
          "name": "stdout",
          "text": [
            "name : person1,   age : 29   adult\n",
            "name : person2,   age : 21   adult\n",
            "name : person3,   age : 12   not adult\n",
            "name : person4,   age : 12   not adult\n",
            "name : person5,   age : 28   adult\n",
            "name : person6,   age : 20   adult\n",
            "name : person7,   age : 19   not adult\n",
            "name : person8,   age : 29   adult\n",
            "name : person9,   age : 10   not adult\n",
            "name : person10,   age : 16   not adult\n"
          ]
        }
      ],
      "source": [
        "# import random\n",
        "import random\n",
        "\n",
        "# def Human class\n",
        "class Human:\n",
        "\n",
        "  # def character, and edit chracter\n",
        "  def __init__(self, name, age):\n",
        "    self.name = name\n",
        "    self.age = age\n",
        "\n",
        "  # def method (print name, age, adult or not of object)\n",
        "  def check_adult(self):\n",
        "    if self.age > 19:\n",
        "      print(\"name : \" + self.name + f\",   age : {self.age}   adult\")\n",
        "    else:\n",
        "      print(\"name : \" + self.name + f\",   age : {self.age}   not adult\")\n",
        "\n",
        "# make random age person, instantiation, and run method(check adult)\n",
        "for i in range(1,11):\n",
        "  age_i = random.randint(10,30)\n",
        "  human_i = Human(f\"person{i}\", age_i)\n",
        "  human_i.check_adult()\n",
        "\n"
      ]
    }
  ]
}