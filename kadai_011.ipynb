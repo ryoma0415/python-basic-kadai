{
  "nbformat": 4,
  "nbformat_minor": 0,
  "metadata": {
    "colab": {
      "provenance": [],
      "authorship_tag": "ABX9TyPsJOhNtUXh5+nZH8x5Fs+U",
      "include_colab_link": true
    },
    "kernelspec": {
      "name": "python3",
      "display_name": "Python 3"
    },
    "language_info": {
      "name": "python"
    }
  },
  "cells": [
    {
      "cell_type": "markdown",
      "metadata": {
        "id": "view-in-github",
        "colab_type": "text"
      },
      "source": [
        "<a href=\"https://colab.research.google.com/github/ryoma0415/python-basic-kadai/blob/main/kadai_011.ipynb\" target=\"_parent\"><img src=\"https://colab.research.google.com/assets/colab-badge.svg\" alt=\"Open In Colab\"/></a>"
      ]
    },
    {
      "cell_type": "code",
      "execution_count": 7,
      "metadata": {
        "colab": {
          "base_uri": "https://localhost:8080/"
        },
        "id": "yB_qMspC6MXL",
        "outputId": "aa48f3a2-4a11-4ff3-f9c6-5d96aa882ae5"
      },
      "outputs": [
        {
          "output_type": "stream",
          "name": "stdout",
          "text": [
            "水\n",
            "金\n",
            "地\n",
            "火\n",
            "木\n",
            "土\n",
            "天\n",
            "海\n",
            "冥\n",
            "   水\n",
            "   金\n",
            "   地\n",
            "   火\n",
            "   木\n",
            "   土\n",
            "   天\n",
            "   海\n",
            "   冥\n"
          ]
        }
      ],
      "source": [
        "# set array\n",
        "array = [\"水\",\"金\",\"地\",\"火\",\"木\",\"土\",\"天\",\"海\",\"冥\"]\n",
        "\n",
        "# for loop of array\n",
        "for element in array:\n",
        "  print(element)\n",
        "\n",
        "# while loop of array\n",
        "i = 0 # set index\n",
        "\n",
        "while i < 9:\n",
        "  element = array[i]\n",
        "  print(\"   \" + element)\n",
        "  i = i + 1\n"
      ]
    }
  ]
}