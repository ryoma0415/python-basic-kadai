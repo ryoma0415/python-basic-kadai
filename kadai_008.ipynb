{
  "nbformat": 4,
  "nbformat_minor": 0,
  "metadata": {
    "colab": {
      "provenance": [],
      "authorship_tag": "ABX9TyNR4Wv5Hltmx6xntUmA9nnv",
      "include_colab_link": true
    },
    "kernelspec": {
      "name": "python3",
      "display_name": "Python 3"
    },
    "language_info": {
      "name": "python"
    }
  },
  "cells": [
    {
      "cell_type": "markdown",
      "metadata": {
        "id": "view-in-github",
        "colab_type": "text"
      },
      "source": [
        "<a href=\"https://colab.research.google.com/github/ryoma0415/python-basic-kadai/blob/main/kadai_008.ipynb\" target=\"_parent\"><img src=\"https://colab.research.google.com/assets/colab-badge.svg\" alt=\"Open In Colab\"/></a>"
      ]
    },
    {
      "cell_type": "code",
      "execution_count": 6,
      "metadata": {
        "colab": {
          "base_uri": "https://localhost:8080/"
        },
        "id": "0Yg8OQyqTtkW",
        "outputId": "b18ffa7f-8d8f-4bb5-bf38-ff8fca1d1269"
      },
      "outputs": [
        {
          "output_type": "stream",
          "name": "stdout",
          "text": [
            "85 : Buzz\n"
          ]
        }
      ],
      "source": [
        "# import random module\n",
        "import random\n",
        "\n",
        "# random 1~100 into var\n",
        "var = random.randint(1,100)\n",
        "var1 = var % 3\n",
        "var2 = var % 5\n",
        "\n",
        "# judge var\n",
        "if var1 == 0 and var2 == 0:\n",
        "  print(str(var) + \" : FizzBuzz\")\n",
        "elif var1 == 0:\n",
        "  print(str(var) + \" : Fizz\")\n",
        "elif var2 == 0:\n",
        "  print(str(var) + \" : Buzz\")\n",
        "else:\n",
        "  print(str(var) + \" : not Fizz or Buzz\")\n"
      ]
    }
  ]
}