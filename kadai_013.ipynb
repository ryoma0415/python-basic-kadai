{
  "nbformat": 4,
  "nbformat_minor": 0,
  "metadata": {
    "colab": {
      "provenance": [],
      "authorship_tag": "ABX9TyMb5+/gtX+FDfcLPcFP/MCE",
      "include_colab_link": true
    },
    "kernelspec": {
      "name": "python3",
      "display_name": "Python 3"
    },
    "language_info": {
      "name": "python"
    }
  },
  "cells": [
    {
      "cell_type": "markdown",
      "metadata": {
        "id": "view-in-github",
        "colab_type": "text"
      },
      "source": [
        "<a href=\"https://colab.research.google.com/github/ryoma0415/python-basic-kadai/blob/main/kadai_013.ipynb\" target=\"_parent\"><img src=\"https://colab.research.google.com/assets/colab-badge.svg\" alt=\"Open In Colab\"/></a>"
      ]
    },
    {
      "cell_type": "code",
      "execution_count": 3,
      "metadata": {
        "colab": {
          "base_uri": "https://localhost:8080/"
        },
        "id": "2Uv18n1-tay6",
        "outputId": "2ff22c39-7176-40ad-adc9-ff4eb675d636"
      },
      "outputs": [
        {
          "output_type": "stream",
          "name": "stdout",
          "text": [
            "880.0yen\n"
          ]
        }
      ],
      "source": [
        "# def caluculation of tax\n",
        "def add_tax_mer(price, tax): # tax is percent / 100\n",
        "\n",
        "  total = price + price * tax\n",
        "\n",
        "  print(f\"{total}yen\")\n",
        "\n",
        "add_tax_mer(800, 0.1)\n"
      ]
    }
  ]
}